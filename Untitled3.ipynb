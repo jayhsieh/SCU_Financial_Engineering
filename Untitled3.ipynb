{
 "cells": [
  {
   "cell_type": "code",
   "execution_count": 1,
   "metadata": {},
   "outputs": [],
   "source": [
    "import pymongo\n",
    "from pymongo  import MongoClient\n",
    "import pprint\n",
    "import operator\n",
    "import psycopg2\n",
    "import folium\n",
    "import os\n",
    "import json"
   ]
  },
  {
   "cell_type": "code",
   "execution_count": 2,
   "metadata": {},
   "outputs": [],
   "source": [
    "client = MongoClient('localhost', 27017)\n",
    "db = client['jackdb']\n",
    "collection=db['daily_report']"
   ]
  },
  {
   "cell_type": "code",
   "execution_count": 3,
   "metadata": {},
   "outputs": [],
   "source": [
    "def get_dict(icode):\n",
    "    idict={}\n",
    "    last_icode=\"\"\n",
    "    total_bs=0\n",
    "    for aa in collection.find({\"日期\":\"2017/11/07\",\"id\":icode}):\n",
    "        #pprint.pprint(aa)\n",
    "        icode=aa['劵商分支']\n",
    "        net_bs=int(aa['買進股數'])-int(aa['賣出股數'])\n",
    "\n",
    "        if icode==last_icode or last_icode==\"\":\n",
    "            total_bs+=net_bs\n",
    "\n",
    "        else:\n",
    "            idict[last_icode]=total_bs\n",
    "            total_bs=net_bs\n",
    "\n",
    "        last_icode=icode\n",
    "        \n",
    "    return idict"
   ]
  },
  {
   "cell_type": "code",
   "execution_count": 4,
   "metadata": {},
   "outputs": [],
   "source": [
    "ans=get_dict(\"9945\")\n",
    "\n",
    "sorted_idict_asc = sorted(ans.items(), key=operator.itemgetter(1))\n",
    "sorted_idict_dsec = sorted(ans.items(), key=operator.itemgetter(-1))"
   ]
  },
  {
   "cell_type": "code",
   "execution_count": 5,
   "metadata": {},
   "outputs": [],
   "source": [
    "conn = psycopg2.connect(host='172.27.110.104',port='5432', database='equity', user='quant', password='quant')\n",
    "cursor = conn.cursor()"
   ]
  },
  {
   "cell_type": "code",
   "execution_count": 10,
   "metadata": {},
   "outputs": [
    {
     "name": "stdout",
     "output_type": "stream",
     "text": [
      "('1480', -345000)\n",
      "[('美商高盛', 25.026, 121.549)]\n",
      "('5850', -100200)\n",
      "[('統一', 25.0503, 121.565)]\n",
      "('9381', -97955)\n",
      "[('華南永昌-斗南', 23.6733, 120.479)]\n",
      "('7035', -79800)\n",
      "[('致和-東門', 22.6251, 120.315)]\n",
      "('116A', -78000)\n",
      "[('日盛-木柵', 24.9886, 121.567)]\n",
      "('9A9b', -72000)\n",
      "[('永豐金-虎尾', 23.7075, 120.436)]\n",
      "('9324', -62000)\n",
      "[('華南永昌-岡山', 22.7934, 120.287)]\n",
      "('884F', -53000)\n",
      "[('玉山-桃園', 25.0049, 121.305)]\n",
      "('116U', -52000)\n",
      "[('日盛-桃園', 25.0201, 121.297)]\n",
      "('815K', -46000)\n",
      "[('台新-前鎮', 22.6246, 120.362)]\n"
     ]
    }
   ],
   "source": [
    "arr=[]\n",
    "m = folium.Map(location=[23.8, 121.2], width='100%', height='100%', zoom_start=8)\n",
    "\n",
    "for i in range(0,10):\n",
    "    print(sorted_idict_asc[i])\n",
    "    cursor.execute(\"select 劵商分支,緯度,經度 from 劵商分支代碼 where 代碼='\" + str(sorted_idict_asc[i][0]) + \"'\")\n",
    "    arr=cursor.fetchall()\n",
    "    conn.commit()\n",
    "    print(arr)\n",
    "    folium.Marker([arr[0][1], arr[0][2]], popup=arr[0][0],icon=folium.Icon(color='red', icon='info-sign')).add_to(m)\n",
    "\n",
    "m\n",
    "m.save('d:\\\\Python\\\\Python35\\\\index7.html')"
   ]
  },
  {
   "cell_type": "code",
   "execution_count": 42,
   "metadata": {},
   "outputs": [
    {
     "data": {
      "text/plain": [
       "str"
      ]
     },
     "execution_count": 42,
     "metadata": {},
     "output_type": "execute_result"
    }
   ],
   "source": [
    "m = folium.Map(location=[23.8, 121.2], width='100%', height='100%', zoom_start=8)\n",
    "\n",
    "folium.Marker([22.6386478, 120.3299893], popup='<i>高雄市三民區九如一路502號</i>', icon=folium.Icon(color='green')).add_to(m)\n",
    "folium.Marker([23.7081578, 120.5407058], popup='<b>雲林縣斗六市</b>',icon=folium.Icon(color='red', icon='info-sign')).add_to(m)\n",
    "\n",
    "# 紅點\n",
    "folium.Circle(\n",
    "    radius=10000,\n",
    "    location=[23.8081578, 120.7407058],\n",
    "    popup='The Waterfront',\n",
    "    color='crimson',\n",
    "    fill=False,\n",
    ").add_to(m)\n",
    "\n",
    "# 藍色圈圈\n",
    "# folium.CircleMarker(\n",
    "#    location=[24.9081578,121.5007058],\n",
    "#    radius=30,\n",
    "#    popup='Laurelhurst Park',\n",
    "#    color='#3186cc',\n",
    "#    fill=True,\n",
    "#    fill_color='#3186cc'\n",
    "#).add_to(m)\n",
    "\n",
    "vis = os.path.join('vis.json')\n",
    "folium.Marker(\n",
    "    location=[24.9081578,121.5007058],\n",
    "    popup=folium.Popup(max_width=450).add_child(\n",
    "        folium.Vega(json.load(open(vis)), width=450, height=250))\n",
    ").add_to(m)\n",
    "\n",
    "\n",
    "m"
   ]
  },
  {
   "cell_type": "code",
   "execution_count": null,
   "metadata": {},
   "outputs": [],
   "source": []
  }
 ],
 "metadata": {
  "kernelspec": {
   "display_name": "Python 3",
   "language": "python",
   "name": "python3"
  },
  "language_info": {
   "codemirror_mode": {
    "name": "ipython",
    "version": 3
   },
   "file_extension": ".py",
   "mimetype": "text/x-python",
   "name": "python",
   "nbconvert_exporter": "python",
   "pygments_lexer": "ipython3",
   "version": "3.5.4"
  }
 },
 "nbformat": 4,
 "nbformat_minor": 2
}
