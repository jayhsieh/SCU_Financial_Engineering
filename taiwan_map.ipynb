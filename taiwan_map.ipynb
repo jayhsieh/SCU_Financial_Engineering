{
 "cells": [
  {
   "cell_type": "code",
   "execution_count": 1,
   "metadata": {},
   "outputs": [],
   "source": [
    "import folium\n",
    "import os\n",
    "import json"
   ]
  },
  {
   "cell_type": "code",
   "execution_count": 2,
   "metadata": {},
   "outputs": [
    {
     "data": {
      "text/html": [
       "<div style=\"width:100%;\"><div style=\"position:relative;width:100%;height:0;padding-bottom:60%;\"><iframe src=\"data:text/html;charset=utf-8;base64,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\" style=\"position:absolute;width:100%;height:100%;left:0;top:0;border:none !important;\" allowfullscreen webkitallowfullscreen mozallowfullscreen></iframe></div></div>"
      ],
      "text/plain": [
       "<folium.folium.Map at 0x87f3198>"
      ]
     },
     "execution_count": 2,
     "metadata": {},
     "output_type": "execute_result"
    }
   ],
   "source": [
    "m = folium.Map(location=[23.8, 121.2], width='100%', height='100%', zoom_start=8)\n",
    "\n",
    "folium.Marker([22.6386478, 120.3299893], popup='<i>高雄市三民區九如一路502號</i>', icon=folium.Icon(color='green')).add_to(m)\n",
    "folium.Marker([23.7081578, 120.5407058], popup='<b>雲林縣斗六市</b>',icon=folium.Icon(color='red', icon='info-sign')).add_to(m)\n",
    "\n",
    "# 紅點\n",
    "folium.Circle(\n",
    "    radius=10000,\n",
    "    location=[23.8081578, 120.7407058],\n",
    "    popup='The Waterfront',\n",
    "    color='crimson',\n",
    "    fill=False,\n",
    ").add_to(m)\n",
    "\n",
    "# 藍色圈圈\n",
    "# folium.CircleMarker(\n",
    "#    location=[24.9081578,121.5007058],\n",
    "#    radius=30,\n",
    "#    popup='Laurelhurst Park',\n",
    "#    color='#3186cc',\n",
    "#    fill=True,\n",
    "#    fill_color='#3186cc'\n",
    "#).add_to(m)\n",
    "\n",
    "vis = os.path.join('vis.json')\n",
    "folium.Marker(\n",
    "    location=[24.9081578,121.5007058],\n",
    "    popup=folium.Popup(max_width=450).add_child(\n",
    "        folium.Vega(json.load(open(vis)), width=450, height=250))\n",
    ").add_to(m)\n",
    "\n",
    "\n",
    "m"
   ]
  },
  {
   "cell_type": "code",
   "execution_count": 42,
   "metadata": {},
   "outputs": [],
   "source": [
    "?folium.Map"
   ]
  },
  {
   "cell_type": "code",
   "execution_count": 4,
   "metadata": {},
   "outputs": [],
   "source": [
    "m.save('d:\\\\Python\\\\Python35\\\\index1.html')"
   ]
  },
  {
   "cell_type": "code",
   "execution_count": 81,
   "metadata": {},
   "outputs": [],
   "source": [
    "?os.path.join"
   ]
  },
  {
   "cell_type": "code",
   "execution_count": 82,
   "metadata": {},
   "outputs": [
    {
     "name": "stdout",
     "output_type": "stream",
     "text": [
      " 磁碟區 D 中的磁碟是 DATA\n",
      " 磁碟區序號:  FEFF-6770\n",
      "\n",
      " D:\\Python 的目錄\n",
      "\n",
      "2017/11/08  上午 10:53    <DIR>          .\n",
      "2017/11/08  上午 10:53    <DIR>          ..\n",
      "2017/11/08  上午 09:55    <DIR>          .ipynb_checkpoints\n",
      "2017/11/08  上午 09:58             2,796 index.html\n",
      "2017/11/07  下午 01:48    <DIR>          Python27\n",
      "2017/11/07  下午 02:10    <DIR>          Python35\n",
      "2017/11/07  下午 06:17             4,541 Untitled.ipynb\n",
      "2017/11/07  下午 06:17            16,655 Untitled1.ipynb\n",
      "2017/11/07  下午 06:17             2,429 Untitled2.ipynb\n",
      "2017/11/08  上午 10:53            13,694 Untitled3.ipynb\n",
      "2017/11/08  上午 10:53             3,496 vis.json\n",
      "               6 個檔案          43,611 位元組\n",
      "               5 個目錄  207,244,218,368 位元組可用\n"
     ]
    }
   ],
   "source": [
    "ls"
   ]
  },
  {
   "cell_type": "code",
   "execution_count": null,
   "metadata": {},
   "outputs": [],
   "source": []
  }
 ],
 "metadata": {
  "kernelspec": {
   "display_name": "Python 3",
   "language": "python",
   "name": "python3"
  },
  "language_info": {
   "codemirror_mode": {
    "name": "ipython",
    "version": 3
   },
   "file_extension": ".py",
   "mimetype": "text/x-python",
   "name": "python",
   "nbconvert_exporter": "python",
   "pygments_lexer": "ipython3",
   "version": "3.5.4"
  }
 },
 "nbformat": 4,
 "nbformat_minor": 2
}
